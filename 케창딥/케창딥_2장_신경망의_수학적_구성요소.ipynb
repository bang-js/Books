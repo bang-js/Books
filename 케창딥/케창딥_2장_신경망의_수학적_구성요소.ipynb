{
  "nbformat": 4,
  "nbformat_minor": 0,
  "metadata": {
    "colab": {
      "name": "케창딥 2장 신경망의 수학적 구성요소.ipynb",
      "provenance": [],
      "collapsed_sections": [],
      "authorship_tag": "ABX9TyNhKkecDNK/Nmha9YXp1WB+"
    },
    "kernelspec": {
      "name": "python3",
      "display_name": "Python 3"
    },
    "language_info": {
      "name": "python"
    }
  },
  "cells": [
    {
      "cell_type": "markdown",
      "source": [
        "# 2.1 신경망 첫만남\n",
        "MNIST"
      ],
      "metadata": {
        "id": "jvcAO9NKWy-7"
      }
    },
    {
      "cell_type": "markdown",
      "source": [
        "MNIST : 28x28 흑백 손글씨 숫자 이미지를 0~9의 10개 범주로 분류하는 것, 6만개의 훈련 이미지와 1만개의 테스트 이미지로 구성\n",
        "- 클래스(분류 문제의 category), 샘플(데이터 포인트), 레이블(특정 샘플의 클래스)\n"
      ],
      "metadata": {
        "id": "esRC3PsIXXTo"
      }
    },
    {
      "cell_type": "code",
      "source": [
        "from keras.datasets import mnist\n",
        "(train_images, train_labels), (test_images, test_labels) = mnist.load_data()"
      ],
      "metadata": {
        "id": "GiLh65S0X2Rz",
        "colab": {
          "base_uri": "https://localhost:8080/"
        },
        "outputId": "e8c5a239-9cb0-4c75-d78b-7bcdc4b22038"
      },
      "execution_count": null,
      "outputs": [
        {
          "output_type": "stream",
          "name": "stdout",
          "text": [
            "Downloading data from https://storage.googleapis.com/tensorflow/tf-keras-datasets/mnist.npz\n",
            "11493376/11490434 [==============================] - 0s 0us/step\n",
            "11501568/11490434 [==============================] - 0s 0us/step\n"
          ]
        }
      ]
    },
    {
      "cell_type": "markdown",
      "source": [
        "(train_images, train_labels)가 하나의 train set, (test_images, test_labels)가 하나의 test set\\\n",
        "이미지는 numpy array로 인코딩, label은 0~9까지의 숫자 배열, 이미지와 레이블은 1:1 대응"
      ],
      "metadata": {
        "id": "8g3S7F8yYFpM"
      }
    },
    {
      "cell_type": "code",
      "source": [
        "print(train_images.shape)\n",
        "print(len(train_labels))\n",
        "print(train_labels[0:10])"
      ],
      "metadata": {
        "colab": {
          "base_uri": "https://localhost:8080/"
        },
        "id": "Yfj26ty5YbvN",
        "outputId": "590ecc11-56e4-47e7-c23d-360c8c383808"
      },
      "execution_count": null,
      "outputs": [
        {
          "output_type": "stream",
          "name": "stdout",
          "text": [
            "(60000, 28, 28)\n",
            "60000\n",
            "[5 0 4 1 9 2 1 3 1 4]\n"
          ]
        }
      ]
    },
    {
      "cell_type": "code",
      "source": [
        "print(test_images.shape)\n",
        "print(len(test_labels))\n",
        "print(test_labels[0:10])\n"
      ],
      "metadata": {
        "colab": {
          "base_uri": "https://localhost:8080/"
        },
        "id": "RUWn8xcLYpoT",
        "outputId": "a97d738f-4344-4091-9c32-1e8866c3bf4e"
      },
      "execution_count": null,
      "outputs": [
        {
          "output_type": "stream",
          "name": "stdout",
          "text": [
            "(10000, 28, 28)\n",
            "10000\n",
            "[7 2 1 0 4 1 4 9 5 9]\n"
          ]
        }
      ]
    },
    {
      "cell_type": "code",
      "source": [
        "import matplotlib.pyplot as plt\n",
        "fig, axs = plt.subplots(1, 10, figsize=(10,10))\n",
        "for i in range(10) :\n",
        "  axs[i].imshow(train_images[i].reshape(28,28), cmap='gray_r')\n",
        "  axs[i].axis('off')\n",
        "plt.show()"
      ],
      "metadata": {
        "colab": {
          "base_uri": "https://localhost:8080/",
          "height": 78
        },
        "id": "-TT7WtQsiD_u",
        "outputId": "1838e58d-8fd3-4c7a-d574-06961b734188"
      },
      "execution_count": null,
      "outputs": [
        {
          "output_type": "display_data",
          "data": {
            "image/png": "[encoded data removed]",
            "text/plain": [
              "<Figure size 720x720 with 10 Axes>"
            ]
          },
          "metadata": {
            "needs_background": "light"
          }
        }
      ]
    },
    {
      "cell_type": "markdown",
      "source": [
        "train set을 네트워크를 주입 → 네트워크는 이미지와 레이블을 연관시킬 수 있도록 학습 → 마지막으로 test_images에 대한 예측을 실행하여 test_labels와 얼마나 맞는지 확인"
      ],
      "metadata": {
        "id": "jjcYpLAGYv4P"
      }
    },
    {
      "cell_type": "code",
      "source": [
        "# 신경망 구조\n",
        "from tensorflow import keras\n",
        "\n",
        "network = keras.Sequential()\n",
        "network.add(keras.layers.Dense(512, activation='relu', input_shape=(28*28,)))\n",
        "network.add(keras.layers.Dense(10, activation='softmax'))"
      ],
      "metadata": {
        "id": "ZakkPaQcYwZE"
      },
      "execution_count": null,
      "outputs": []
    },
    {
      "cell_type": "markdown",
      "source": [
        "- 신경망의 핵심 요소는 데이터 처리 필터로서 **층(layer)**, 층은 주어진 문제에서 의미 있는 표현(representation)을 입력된 데이터로부터 추출\n",
        "- 대부분의 딥러닝은 간단한 층을 연결하여 구성, 점진적으로 데이터를 정제하는 형태\n",
        "- 해당 예시에서는 완전 연결된 신경망층인 Dense층 2개가 연속되어 있음, 마지막 층은 도합 1의 10개의 확률값이 들어 있는 배열을 반환하는 softmax층이며 각 확률값은 투입된 이미지가 10개 숫자 클래스 중 하나에 속할 확률\n"
      ],
      "metadata": {
        "id": "n1w8KBHFZnGr"
      }
    },
    {
      "cell_type": "markdown",
      "source": [
        "신경망이 훈련되기 전 **compile** 단계에서 세 가지가 더 추가되어야 함\n",
        "1. 손실 함수(loss) : 훈련데이터에서 신경망의 성능을 측정하고 네트워크가 올바른 방향으로 학습될 수 있도록 도와줌\n",
        "2. 옵티마이저(optimizer) : 입력된 데이터와 손실함수를 바탕으로 네트워크(파라미터)를 업데이트하는 메커니즘\n",
        "3. 모니터링 지표(metrics) : accuracy(정확히 분류한 개수/전체 개수)와 같이 훈련과 테스트 과정을 모니터링하는 지표"
      ],
      "metadata": {
        "id": "6dqiDoFeaTEI"
      }
    },
    {
      "cell_type": "code",
      "source": [
        "network.compile(optimizer='rmsprop', loss='categorical_crossentropy', metrics=['accuracy'])"
      ],
      "metadata": {
        "id": "rUdxnUfAhA3t"
      },
      "execution_count": null,
      "outputs": []
    },
    {
      "cell_type": "code",
      "source": [
        "# 이미지 데이터 준비하기\n",
        "train_images = train_images.reshape(-1,28*28)\n",
        "train_images = train_images.astype('float32')/255\n",
        "test_images = test_images.reshape(-1,28*28)\n",
        "test_images = test_images.astype('float32')/255"
      ],
      "metadata": {
        "id": "KAdnAMK7hbhU"
      },
      "execution_count": null,
      "outputs": []
    },
    {
      "cell_type": "code",
      "source": [
        "# one-hot encoding으로 label 준비하기 \n",
        "train_labels = keras.utils.to_categorical(train_labels)\n",
        "test_labels = keras.utils.to_categorical(test_labels)"
      ],
      "metadata": {
        "id": "Evmmg8ByivtY"
      },
      "execution_count": null,
      "outputs": []
    },
    {
      "cell_type": "code",
      "source": [
        "# model 훈련\n",
        "network.fit(train_images, train_labels, epochs=5, batch_size=128)"
      ],
      "metadata": {
        "colab": {
          "base_uri": "https://localhost:8080/"
        },
        "id": "KASLwTzcjcky",
        "outputId": "f125bfcc-b99d-4fa5-c277-3d02a26aa9d8"
      },
      "execution_count": null,
      "outputs": [
        {
          "output_type": "stream",
          "name": "stdout",
          "text": [
            "Epoch 1/5\n",
            "469/469 [==============================] - 6s 12ms/step - loss: 0.2526 - accuracy: 0.9268\n",
            "Epoch 2/5\n",
            "469/469 [==============================] - 5s 10ms/step - loss: 0.1003 - accuracy: 0.9710\n",
            "Epoch 3/5\n",
            "469/469 [==============================] - 4s 9ms/step - loss: 0.0663 - accuracy: 0.9801\n",
            "Epoch 4/5\n",
            "469/469 [==============================] - 4s 9ms/step - loss: 0.0485 - accuracy: 0.9855\n",
            "Epoch 5/5\n",
            "469/469 [==============================] - 4s 9ms/step - loss: 0.0363 - accuracy: 0.9889\n"
          ]
        },
        {
          "output_type": "execute_result",
          "data": {
            "text/plain": [
              "<keras.callbacks.History at 0x7fdbca4b35d0>"
            ]
          },
          "metadata": {},
          "execution_count": 17
        }
      ]
    },
    {
      "cell_type": "code",
      "source": [
        "# model을 test set에 대해 평가한 결과\n",
        "test_loss, test_accuracy = network.evaluate(test_images, test_labels)\n",
        "print(test_loss, test_accuracy)"
      ],
      "metadata": {
        "colab": {
          "base_uri": "https://localhost:8080/"
        },
        "id": "KM4fhfpzjpFt",
        "outputId": "46742f3b-58c6-4ac8-8bb9-fd0edcea3992"
      },
      "execution_count": null,
      "outputs": [
        {
          "output_type": "stream",
          "name": "stdout",
          "text": [
            "313/313 [==============================] - 1s 2ms/step - loss: 0.0712 - accuracy: 0.9788\n",
            "0.07124529778957367 0.9787999987602234\n"
          ]
        }
      ]
    },
    {
      "cell_type": "markdown",
      "source": [
        "# 2.2 신경망을 위한 데이터 표현"
      ],
      "metadata": {
        "id": "87jjkENDWx5n"
      }
    },
    {
      "cell_type": "markdown",
      "source": [
        "텐서 : 임의의 차원의 개수를 가지는 행렬의 일반화된 모습, 텐서의 축 개수를 **rank**라고도 함\n",
        "- scalar (0D tensor) : float32, float64 타입의 숫자, 축의 개수=0\n",
        "- vector (1D tensor) : 축의 개수=1, 이때 5차원 벡터는 축이 5개 아니라 하나의 축에 5개의 차원이 있는 뜻\n",
        "- matrix (2D tensor) : 축의 개수=2, row와 column으로 이루어짐\n",
        "- 3D tensor : 축의 개수=3"
      ],
      "metadata": {
        "id": "FQNNCzEoe4bP"
      }
    },
    {
      "cell_type": "code",
      "source": [
        "# ndim : 넘파이 배열의 축axis 개수\n",
        "import numpy as np\n",
        "x0 = np.array(11)\n",
        "print(x0.ndim, x0.shape)\n",
        "\n",
        "x01 = np.array([11])\n",
        "print(x01.ndim, x01.shape)\n",
        "\n",
        "x1 = np.array([1,2,3])\n",
        "print(x1.ndim, x1.shape)\n",
        "\n",
        "x2 = np.array([[1,2],\n",
        "               [3,4]])\n",
        "print(x2.ndim, x2.shape)\n",
        "\n",
        "x3 = np.array([[[1,2,3],\n",
        "                [4,5,6]],\n",
        "               [[1,2,3],\n",
        "                [4,5,6]],\n",
        "               [[1,2,3],\n",
        "                [4,5,6]]])\n",
        "print(x3.ndim, x3.shape)"
      ],
      "metadata": {
        "colab": {
          "base_uri": "https://localhost:8080/"
        },
        "id": "-aZxobo_fMOe",
        "outputId": "cb0e778b-2f17-46bb-bed5-a244fbeed56c"
      },
      "execution_count": null,
      "outputs": [
        {
          "output_type": "stream",
          "name": "stdout",
          "text": [
            "0 ()\n",
            "1 (1,)\n",
            "1 (3,)\n",
            "2 (2, 2)\n",
            "3 (3, 2, 3)\n"
          ]
        }
      ]
    },
    {
      "cell_type": "markdown",
      "source": [
        "tensor의 핵심 속성\n",
        "- rank : nD tensor에는 n개의 축이 있음, **ndim** 속성에 저장\n",
        "- shape : 텐서의 각 축을 따라 얼마나 많은 차원이 있는지를 나타낸 tuple\n",
        "- datatype : float32, unit8 등 텐서에 저장된 데이터의 타입,  **dtype**속성에 저장"
      ],
      "metadata": {
        "id": "R6wgDOB0gjxO"
      }
    },
    {
      "cell_type": "code",
      "source": [
        "print(train_images.shape)\n",
        "print(train_images.dtype)"
      ],
      "metadata": {
        "colab": {
          "base_uri": "https://localhost:8080/"
        },
        "id": "rcBisOaWhxgm",
        "outputId": "5b04bf62-fc12-4a90-ac03-f0d3545feb6a"
      },
      "execution_count": null,
      "outputs": [
        {
          "output_type": "stream",
          "name": "stdout",
          "text": [
            "(60000, 784)\n",
            "float32\n"
          ]
        }
      ]
    },
    {
      "cell_type": "markdown",
      "source": [
        "**배치 차원**: 딥러닝에서 사용하는 모든 데이터 텐서의 첫 번째 축은 샘플 축(샘플 차원)으로서 배치 차원이라고도함\\\n",
        "딥러닝에서는 한 번에 전체 데이터셋을 처리하지 않음, 그 대신 데이터를 작은 batch로 나눔\\\n",
        "만약 batch=128인 경우,  batch = train_images[:128], 그 다음 배치는 batch = train_images[128:256], ..."
      ],
      "metadata": {
        "id": "FcsTsRJie4Un"
      }
    },
    {
      "cell_type": "markdown",
      "source": [
        "tensor의 실례\n",
        "- 벡터 데이터 : (sample, features) 크기의 2D 텐서\n",
        "- **time series** or sequence : (smp, timesteps, features) 크기의 3D 텐서\n",
        "- **image** : (smp, height, width, channels(color)) 크기의 4D 텐서\n",
        "- **video** : (smp, frames, height, width, channels(color))의 5D 텐서"
      ],
      "metadata": {
        "id": "5gOjnCSUixQ2"
      }
    },
    {
      "cell_type": "markdown",
      "source": [
        "1. 벡터 데이터 : 나이, 거주지, 소득으로 구성된 인구 통계 데이터, 각 사람은 3개의 값을 가진 벡터로 구성되고 10만 명이 포함된 전체 데이터셋은 (100000, 3) 크기의 텐서로 저장\n",
        "2. 시계열 또는 시퀀스 : 주식 가격 데이터의 경우 1분마다 현재 주식 가격, 지난 1분 동안의 고가와 저가를 저장한다면 250일 동안의 데이터는 (250, 390, 3)크기의 3D 텐서로 저장\n",
        "3. 이미지 데이터 : 256x256 크기의 흑백 이미지에 대한 128개 배치는 (128,256,256,1) 크기의 4D 텐서에 저장, 컬러 이미지의 경우 (128,256,256,3)"
      ],
      "metadata": {
        "id": "zKwjA0m9jrib"
      }
    },
    {
      "cell_type": "markdown",
      "source": [
        "# 2.3 텐서 연산"
      ],
      "metadata": {
        "id": "fhO5IOOWWx3z"
      }
    },
    {
      "cell_type": "markdown",
      "source": [
        "첫 번째 예제에서의 Dense는 keras.layers.Dense(512, activation='relu')\\\n",
        "이 층은 2D 텐서(smp, 512)를 입력으로 받고 입력 텐서의 새로운 표현인 2D 텐서를 반환하는 함수로 해석가능\\\n",
        "**output = relu(dot(W,input)+b)**   \\\n",
        "(W : 2D 텐서로서 가중치, b : 벡터로서 절편, relu(x)=max(x,0))\n",
        "\n",
        "\n"
      ],
      "metadata": {
        "id": "C9LswFLEmyr5"
      }
    },
    {
      "cell_type": "markdown",
      "source": [
        "## 원소별 연산\n",
        "\n"
      ],
      "metadata": {
        "id": "Oj5b2CIAnuKr"
      }
    },
    {
      "cell_type": "markdown",
      "source": [
        "원소별 연산은 텐서에 있는 각 원소에 독립적으로 적용\\\n",
        "일종의 for문을 통해 모든 원소에 대해 각각 연산해주는 것\\\n",
        "ReLu의 경우 : \\\n",
        "for i in range(x.shape[0]) :\\\n",
        "$\\;$ for j in range(x.shape[1]) :\\\n",
        "$\\;\\;$ x[i,j] = max(x[i,j],0)"
      ],
      "metadata": {
        "id": "4duMCM-WqAMN"
      }
    },
    {
      "cell_type": "markdown",
      "source": [
        "이와 같은 방법으로 넘파이 배열은 원소별 곱셈, 뺄셈을 할 수 있음"
      ],
      "metadata": {
        "id": "KeptqoYZp0LM"
      }
    },
    {
      "cell_type": "markdown",
      "source": [
        "## Broadcasting"
      ],
      "metadata": {
        "id": "vOdmiWBToqG8"
      }
    },
    {
      "cell_type": "markdown",
      "source": [
        "서로 다른 크기의 두 텐서를 연산하는 경우\n",
        "1. 큰 텐서의 ndim에 맞도록 작은 텐서에 **브로드캐스딩 축**이 추가됨\n",
        "2. 작은 텐서가 새 축을 따라서 큰 텐서의 크게 맞도록 반복\n",
        "\n",
        "ex. x의 크기는 (32,10)이고 y의 크기는 (10,)일 때, y에 비어 있는 첫 번째 축을 추가하여 크기를 (1,10)로 만들고 32번 반복하여 텐서 y의 크기는 (32,10)이 되어 x와 y의 크기가 동일해짐"
      ],
      "metadata": {
        "id": "75ME1hYUqBaZ"
      }
    },
    {
      "cell_type": "code",
      "source": [
        "x = np.random.random((5,3,2))\n",
        "y = np.random.random((3,2))\n",
        "print(x + y)"
      ],
      "metadata": {
        "colab": {
          "base_uri": "https://localhost:8080/"
        },
        "id": "4DBRpdfcqqna",
        "outputId": "f477269d-f90f-4a5a-aa0b-c3e6f7a8f220"
      },
      "execution_count": null,
      "outputs": [
        {
          "output_type": "stream",
          "name": "stdout",
          "text": [
            "[[[0.67827346 0.24159979]\n",
            "  [0.98991994 1.18731953]\n",
            "  [0.90540064 0.25662963]]\n",
            "\n",
            " [[1.15199443 0.61355994]\n",
            "  [1.09298951 0.93676702]\n",
            "  [0.58931881 1.08878849]]\n",
            "\n",
            " [[1.41805284 0.92211216]\n",
            "  [0.54197457 0.45167372]\n",
            "  [0.37275566 0.52365007]]\n",
            "\n",
            " [[1.19180555 0.33308424]\n",
            "  [0.35839529 1.15493437]\n",
            "  [0.67575657 1.01156371]]\n",
            "\n",
            " [[1.41394818 0.96186907]\n",
            "  [0.99882592 0.45420564]\n",
            "  [0.20156322 1.04388826]]]\n"
          ]
        }
      ]
    },
    {
      "cell_type": "markdown",
      "source": [
        "## Tensor Dot product"
      ],
      "metadata": {
        "id": "uP0T9p9gos0K"
      }
    },
    {
      "cell_type": "markdown",
      "source": [
        "두 벡터 사이의 점곱의 경우 **내적**을 의미\\\n",
        "for i in range(x.shape[0]) :\\\n",
        "$\\;$ z+= x[i] * y[i]\\\n",
        "따라서 계산 결과는 scalar"
      ],
      "metadata": {
        "id": "HkczVTD_rqoI"
      }
    },
    {
      "cell_type": "markdown",
      "source": [
        "행렬 x와 벡터 y 사이의 dot product의 경우 벡터가 반환\\\n",
        "len(x.shape)=2 ; len(y.shape)=1 ; x.shape[1]==y.shape[0]; \\\n",
        "for i in range(x.shape[0]):\\\n",
        "$\\;$ for j in range(x.shape[1]):\\\n",
        "$\\;\\;$ z[i] += x[i,j] * y[j]\\\n",
        "이 경우 그냥 행렬과 벡터의 곱\n",
        "\n",
        "또한 행렬 x와 행렬 y 사이의 dot product의 경우 행렬이 반환되며 차원은 (n,m)×(m,l)=(n,l)\n",
        "\n",
        "일반적으로 고차원 텐서 간의 dp의 경우\\\n",
        "(a,b,c,d)×(d,)→(a,b,c)\n",
        "(a,b,c,d)×(d,e)→(a,b,c,e)\n",
        "등으로 계산됨"
      ],
      "metadata": {
        "id": "y3nO2xcNsO3w"
      }
    },
    {
      "cell_type": "markdown",
      "source": [
        "# 2.4 Gradient 기반 최적화"
      ],
      "metadata": {
        "id": "_FwyDxCXWx1f"
      }
    },
    {
      "cell_type": "markdown",
      "source": [
        "**output = relu(dot(W,input)+b)** \\\n",
        "에서 W는 kernel, b는 절편, 이런 가중치에는 훈련 데이터를 신경망에 노출시켜 학습된 정보가 담겨져 있음\\\n",
        "초기에 가중치 행렬은 의미 없는 표현, 즉 난수로 채워져 있다가(random initialization) 피드백 신호에 기반하여 가중치가 점점 조정됨\n",
        "\n",
        "훈련은 다음과 같은 훈련 반복 루프 안에서 일어남\n",
        "1. 훈련 샘플 x와 이에 대응되는 target y의 batch를 추출\n",
        "2. x를 사용하여 신경망을 실행하고 y의 prediction을 구함\n",
        "3. predicted y와 actual y의 차이를 측정하여 이 batch에 대한  loss를 계산\n",
        "4. batch에 대한 loss가 조금씩 감소되도록 네트워크의 모든 가중치를 업데이트\n",
        "\n",
        "이러한 루프 속에서 오차값은 매우 작아짐\n",
        "\n",
        "4단계에서 개별적인 가중치의 값이 어떻게 변해야 하는지 아는 것이 중요\\\n",
        "이때 가장 효율적인 방법은 신경망 내 모든 연산이 미분가능하다는 것을 이용하여 가중치에 대한 loss의 gradient를 계산하는 것이 훨씬 더 좋은 방법\n",
        "\n"
      ],
      "metadata": {
        "id": "-gfPjTe6t-ju"
      }
    },
    {
      "cell_type": "markdown",
      "source": [
        "먼저 f(x)를 최소화하기 위해 Δx만큼 x를 업데이트하고 싶을 때 f의 변화율을 알고 있으면 됨, f(x)의 값을 감소시키고 싶다면 **변화율의 방향과 반대로** x를 조금 이동시켜야 함"
      ],
      "metadata": {
        "id": "MX-VBhv3yTjZ"
      }
    },
    {
      "cell_type": "markdown",
      "source": [
        "Gradient는 텐선 연산의 변화율\\\n",
        "x : input vector, W : Matrix, y : target, loss : 손실함수(MAE, MSE)\\\n",
        "y_pred = dot(W,x)\\\n",
        "loss_value=loss(y_pred, y)\\\n",
        "여기서 x와 y가 given이라면 loss_value=f(W) \n",
        "\n",
        "W의 초기값을 W0라고 할 때, 포인트 W0에서 f의 변화율은 W와 같은 크기의 텐서인 **gradient(f)(W0)**\n",
        "\n",
        "$$W1 = W0 - step\\times \\nabla f(W0) $$\n",
        "여기서 step은 scale을 조정하기 위한 hyperparamete, W0에서 너무 벗어나지 않기 위해 스케일링 비율 step이 필요\\ gradient의 반대방향으로 움직인다는 것은 기울기가 작아지는 곡면, 즉 낮은 위치로 이동된다는 것\n",
        "\n",
        "\n"
      ],
      "metadata": {
        "id": "tL-6XiW-y4_F"
      }
    },
    {
      "cell_type": "markdown",
      "source": [
        "**확률적 경사 하강법(SGD)**\\\n",
        "우리가 할 일은 변화율이 0이 되는 지점(∇f=0)을 모두 찾고 그 중에서 어떤 포인트의 함수 값이 가장 작은지 확인하는 것\\\n",
        "이때 랜덤한 batch data에서 현재 손실 값을 토대로 하여 조금씩 파라미터를 수정\n",
        "1. 훈련 샘플 x와 이에 대응되는 target y를 추출\n",
        "2. x를 사용하여 신경망을 실행하고 y의 prediction을 구함\n",
        "3. predicted y와 actual y의 차이를 측정하여 이 batch에 대한  네트워크의 loss를 계산\n",
        "4. 네트워크의 파라미터에 대한 loss ftn의 gradient를 계산 (**backward pass**)\n",
        "5. gradient 반대 방향으로 파라미터를 조금 이동 (W -= step*∇f)\n",
        "\n"
      ],
      "metadata": {
        "id": "fNjW1oGe1Ja9"
      }
    },
    {
      "cell_type": "markdown",
      "source": [
        "![image.png](data:image/png;base64,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)"
      ],
      "metadata": {
        "id": "Ux0ARRE63ACW"
      }
    },
    {
      "cell_type": "markdown",
      "source": [
        "그림에서 볼 수 있듯이 step의 값을 적절하게 선택하는 것이 중요, 너무 작은 값을 택하면 곡선을 따라 내려가는데 너무 많은 반복(연산)이 필요하고 local min에 갇힐 수 있음, 반대로 너무 큰 값을 택하면 수렴하지 못하고 완전히 임의의 위치로 이동됨\n",
        "\n",
        "SGD에는 미니 배치, true(단 하나의 데이터만 사용), 배치(모든 데이터를 사용) 등의 하위 범주 있음\n",
        "\n",
        "딥러닝에서의 한 이슈로, ANN이 지역 최솟값에 쉽게 갇힐 것이라고 생각했지만 고차원 공간에서는 대부분 안장점으로 나타나고 지역 최솟값은 드문 것으로 나타남"
      ],
      "metadata": {
        "id": "WFFsduN73Df_"
      }
    },
    {
      "cell_type": "markdown",
      "source": [
        "업데이트할 다음 가중치를 계산할 때 현재 gradient 값만 보지 않고 이전에 업데이트된 가중치를 여러 방식으로 고려하는 SGD도 존재\\\n",
        "예를 들면 momentum SGD, Adagrad, RMSProp 등의 Optimizer\\ \n",
        "물리학적 개념이 momentum은 SGD의 큰 문제인 수렴 속도와 지역 최소값을 해결하는데 사용됨, 모멘텀이 충분하면 공이 골짜기(local min)에 갇히지 않고 전역 최소값에 도달할 수 있음"
      ],
      "metadata": {
        "id": "NkD8bs2i5KyI"
      }
    },
    {
      "cell_type": "markdown",
      "source": [
        "past_velocity = 0\\\n",
        "momentum=0.1\\\n",
        "while loss < 0.01: \\\n",
        "$\\;$ w, loss, gradient = get_current_parameters()\\\n",
        "$\\;$ velocity = momentum * past_velocity $-$ learning\\_rate * gradient # 모멘텀을 통해 현재 가속도(gradient)외에도 과거 가속도로 인한 현재 속도를 함께 고려하여 공이 움직임\\\n",
        "$\\;$ w = w + momentum * past_velocity $-$ learning\\_rate*gradient\\\n",
        "$\\;$ past_velocity = velocity\\\n",
        "$\\;$ update_parameter(w)"
      ],
      "metadata": {
        "id": "KFXAS2zp4QBk"
      }
    },
    {
      "cell_type": "markdown",
      "source": [
        "**역전파 알고리즘**\n",
        "3개의 텐서 연산 a,b,c와 가중치 행렬 W1, W2, W3로 구성된 네트워크 f를 예로 들어보면,\\\n",
        "f(W1, W2, W3) = a(W1, b(W2, c(W3)))\\\n",
        "chain rule를 이용하여 \n",
        "$$ (f(g(x)))'  = f'(g(x))×g'(x) $$\n",
        "그런데 chain rule을 gradient 계산에 적용하여 **Backpropagation**이 탄생, loss value에 각 parameter가 기여한 정도를 계산하기 위해 연쇄 법칙을 적용하여 최상위 층에서 하위 층까지 거꾸로 진행\n",
        "\n",
        "최근에는 tensorflow처럼 symbolic differentiation이 가능한 최신 프레임워크를 사용하여 변화율이 알려진 연산들로 연결되어 있으면 연쇄법칙을 적용하여 네트워크 파라미터와 그래디언트를 매핑하는 그래디언트를 계산할 수 있음, 이를 통해 그래디언트 함수를 호출하면 될뿐 정확한 역전파 공식을 유도할 필요가 없어짐"
      ],
      "metadata": {
        "id": "uoIvCTtR6MxS"
      }
    },
    {
      "cell_type": "markdown",
      "source": [
        "# 2.5 첫 번째 예제"
      ],
      "metadata": {
        "id": "z_dX_e0pWxxL"
      }
    },
    {
      "cell_type": "markdown",
      "source": [
        "핵심 단계\n",
        "1. input, target 데이터 형성/전처리 (train-valid-test로 쪼개기)\n",
        "2. 신경망 구조 생성(Sequential, add(layers))\n",
        "3. compile(optimizer, loss ftn, metrics)\n",
        "4. fit(input, target, epochs, batch_size)\n",
        "5. evaluate(loss(accuracy) 측정) vs predict(개별 smp의 class별 확률값 계산)"
      ],
      "metadata": {
        "id": "qYJ4EcA4WxsH"
      }
    }
  ]
}
