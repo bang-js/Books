{
  "nbformat": 4,
  "nbformat_minor": 0,
  "metadata": {
    "colab": {
      "name": "혼공머신 CH2 데이터 다루기.ipynb",
      "provenance": [],
      "collapsed_sections": [
        "sZ7w3gIJdIcw"
      ],
      "authorship_tag": "ABX9TyMWcXJlpwxJYv2JfKI7jMOf"
    },
    "kernelspec": {
      "name": "python3",
      "display_name": "Python 3"
    },
    "language_info": {
      "name": "python"
    }
  },
  "cells": [
    {
      "cell_type": "markdown",
      "metadata": {
        "id": "sZ7w3gIJdIcw"
      },
      "source": [
        "# 2-1. 훈련 세트와 테스트 세트\n",
        "모델을 훈련시키는 훈련 세트와 모델을 평가하기 위한 테스트 세트"
      ]
    },
    {
      "cell_type": "markdown",
      "metadata": {
        "id": "603X3uS8defc"
      },
      "source": [
        "- bream, smelt 데이터를 훈련시킨 뒤 훈련에 사용한 일부 데이터를 예측에도 사용한다면 당연히 정확도는 100%에 가까울 수밖에 없음   \n",
        "=> 훈련 데이터와 테스트 데이터로 나눠서 훈련용과 평가용을 구분하여 모델의 정확도를 파악해야함\n",
        "- 훈련 데이터와 테스트 데이터는 앞과 동일하게 input과 target으로 구성, input은 feature의 집합"
      ]
    },
    {
      "cell_type": "markdown",
      "metadata": {
        "id": "ZgsEPyGReaj_"
      },
      "source": [
        ""
      ]
    },
    {
      "cell_type": "code",
      "metadata": {
        "id": "aYHJpislcrjv"
      },
      "source": [
        " # data source : https://gist.github.com/rickiepark/b90b9f725890653e69a1a52943671c62\n",
        " fish_length = [25.4, 26.3, 26.5, 29.0, 29.0, 29.7, 29.7, 30.0, 30.0, 30.7, 31.0, 31.0, \n",
        "                31.5, 32.0, 32.0, 32.0, 33.0, 33.0, 33.5, 33.5, 34.0, 34.0, 34.5, 35.0, \n",
        "                35.0, 35.0, 35.0, 36.0, 36.0, 37.0, 38.5, 38.5, 39.5, 41.0, 41.0, 9.8, \n",
        "                10.5, 10.6, 11.0, 11.2, 11.3, 11.8, 11.8, 12.0, 12.2, 12.4, 13.0, 14.3, 15.0]\n",
        "fish_weight = [242.0, 290.0, 340.0, 363.0, 430.0, 450.0, 500.0, 390.0, 450.0, 500.0, 475.0, 500.0, \n",
        "                500.0, 340.0, 600.0, 600.0, 700.0, 700.0, 610.0, 650.0, 575.0, 685.0, 620.0, 680.0, \n",
        "                700.0, 725.0, 720.0, 714.0, 850.0, 1000.0, 920.0, 955.0, 925.0, 975.0, 950.0, 6.7, \n",
        "                7.5, 7.0, 9.7, 9.8, 8.7, 10.0, 9.9, 9.8, 12.2, 13.4, 12.2, 19.7, 19.9]"
      ],
      "execution_count": null,
      "outputs": []
    },
    {
      "cell_type": "code",
      "metadata": {
        "colab": {
          "base_uri": "https://localhost:8080/"
        },
        "id": "NDs8zfV9egjq",
        "outputId": "a402b62d-6a37-4d6d-a7bb-af8643f1f039"
      },
      "source": [
        "fish_data = [[l,w] for l,w in zip(fish_length, fish_weight)]\n",
        "fish_target = [0]*35+[1]*14\n",
        "# 총 49개의 sample로 구성, 이중 train 세트는 35개, test 세트는 14개\n",
        "print(fish_data[0], fish_data[:5])"
      ],
      "execution_count": null,
      "outputs": [
        {
          "output_type": "stream",
          "name": "stdout",
          "text": [
            "[25.4, 242.0] [[25.4, 242.0], [26.3, 290.0], [26.5, 340.0], [29.0, 363.0], [29.0, 430.0]]\n"
          ]
        }
      ]
    },
    {
      "cell_type": "markdown",
      "metadata": {
        "id": "muZsu-JHfVjr"
      },
      "source": [
        "### Sampling Bais, Numpy"
      ]
    },
    {
      "cell_type": "markdown",
      "metadata": {
        "id": "lePLEiYGfhNl"
      },
      "source": [
        "- Numpy : 배열array 라이브러리   \n",
        "고차원의 배열을 손쉽게 조작하는 도구를 제공\n",
        "- np.array(list.py) -> array\n",
        "- array.shape \n",
        "- array indexing"
      ]
    },
    {
      "cell_type": "code",
      "metadata": {
        "colab": {
          "base_uri": "https://localhost:8080/"
        },
        "id": "pNN5LqFzezM_",
        "outputId": "e88ebde7-e91d-4142-8589-4a5fb2069e92"
      },
      "source": [
        "import numpy as np\n",
        "# np.array()로 파이썬 list를 array형태로 변환\n",
        "input_arr = np.array(fish_data)\n",
        "target_arr = np.array(fish_target)\n",
        "print(input_arr[:5])"
      ],
      "execution_count": null,
      "outputs": [
        {
          "output_type": "stream",
          "name": "stdout",
          "text": [
            "[[ 25.4 242. ]\n",
            " [ 26.3 290. ]\n",
            " [ 26.5 340. ]\n",
            " [ 29.  363. ]\n",
            " [ 29.  430. ]]\n"
          ]
        }
      ]
    },
    {
      "cell_type": "code",
      "metadata": {
        "colab": {
          "base_uri": "https://localhost:8080/"
        },
        "id": "wf9w8Up8f1lK",
        "outputId": "d428d873-d2e2-46e8-bd33-0112c0d3632c"
      },
      "source": [
        "# shape는 array의 배열 크기를 알려주는 속성 : 1차원이면 (n,) 2차원이면 (n,m) 3차원이면 (n,m,l)\n",
        "print(input_arr.shape)"
      ],
      "execution_count": null,
      "outputs": [
        {
          "output_type": "stream",
          "name": "stdout",
          "text": [
            "(49, 2)\n"
          ]
        }
      ]
    },
    {
      "cell_type": "code",
      "metadata": {
        "colab": {
          "base_uri": "https://localhost:8080/"
        },
        "id": "kEi-pFLpgOaV",
        "outputId": "f8e49142-7f61-4116-96b7-db1835ad4370"
      },
      "source": [
        "# numpy 배열이 준비되었으니 랜덤하게 샘플을 선택해 train용과 test용으로 구분해야 함\n",
        "# 이때 input_arr와 target_arr에서의 동일한 index는 동시에 선택되어야 함, 이게 꼬이면 input-answer가 뒤틀리는 것으로 큰 오류 야기\n",
        "# 이를 위해 두 array에 index를 할당해줘야 함\n",
        "index = np.arange(49) #49개의 0~48의 정수 array 생성\n",
        "seed = 42\n",
        "np.random.seed(seed)\n",
        "np.random.shuffle(index)   # index array를 무작위로 섞음\n",
        "print(index)"
      ],
      "execution_count": null,
      "outputs": [
        {
          "output_type": "stream",
          "name": "stdout",
          "text": [
            "[13 45 47 44 17 27 26 25 31 19 12  4 34  8  3  6 40 41 46 15  9 16 24 33\n",
            " 30  0 43 32  5 29 11 36  1 21  2 37 35 23 39 10 22 18 48 20  7 42 14 28\n",
            " 38]\n"
          ]
        }
      ]
    },
    {
      "cell_type": "code",
      "metadata": {
        "colab": {
          "base_uri": "https://localhost:8080/"
        },
        "id": "rfc8EaKJhdnX",
        "outputId": "ea4ed52d-7c00-427d-c9cb-658275925938"
      },
      "source": [
        "# 배열 인덱싱 : 여러 개의 인덱스로 한 번에 여러 개의 원소(샘플)를 선택\n",
        "print(\"두 번째 input smp: \", input_arr[1], \"\\n\", \"두, 네 번째 input smp: \", input_arr[[1,3]], \"\\n\", \"두, 세 번째 input smp: \", input_arr[1:3])"
      ],
      "execution_count": null,
      "outputs": [
        {
          "output_type": "stream",
          "name": "stdout",
          "text": [
            "두 번째 input smp:  [ 26.3 290. ] \n",
            " 두, 네 번째 input smp:  [[ 26.3 290. ]\n",
            " [ 29.  363. ]] \n",
            " 두, 세 번째 input smp:  [[ 26.3 290. ]\n",
            " [ 26.5 340. ]]\n"
          ]
        }
      ]
    },
    {
      "cell_type": "code",
      "metadata": {
        "colab": {
          "base_uri": "https://localhost:8080/"
        },
        "id": "F89LIrRQh6Wo",
        "outputId": "94bdc368-66ba-4911-bfbc-3aceed9838ac"
      },
      "source": [
        "# train_set 준비 : shuffle된 index배열의 처음 35개를 input_arr와 target_arr에 전달하여 35개의 train set를 만듦\n",
        "train_input = input_arr[index[:35]]\n",
        "train_target = target_arr[index[:35]]\n",
        "print(\"셔플되기 전인 input_arr의 46th smp인 \", input_arr[45], \"과 셔플된 후 train_input의 2nd smp인\", train_input[1], \"은 같습니다\")"
      ],
      "execution_count": null,
      "outputs": [
        {
          "output_type": "stream",
          "name": "stdout",
          "text": [
            "셔플되기 전인 input_arr의 46th smp인  [12.4 13.4] 과 셔플된 후 train_input의 2nd smp인 [12.4 13.4] 은 같습니다\n"
          ]
        }
      ]
    },
    {
      "cell_type": "code",
      "metadata": {
        "id": "WKlAqwwQjZsx"
      },
      "source": [
        "# test_set 준비\n",
        "test_input = input_arr[index[35:]]\n",
        "test_target = target_arr[index[35:]]"
      ],
      "execution_count": null,
      "outputs": []
    },
    {
      "cell_type": "code",
      "metadata": {
        "colab": {
          "base_uri": "https://localhost:8080/",
          "height": 606
        },
        "id": "4q-PJd8Tj3rj",
        "outputId": "69582849-f6e6-4b30-8fad-7d311758651b"
      },
      "source": [
        "import matplotlib.pyplot as plt\n",
        "plt.figure( figsize=(10,10))\n",
        "plt.scatter(train_input[:,0], train_input[:,1])   # train_input 중 0번 column(길이)을 x축에, 1번 column(무게)을 y축에 배치\n",
        "plt.scatter(test_input[:,0], test_input[:,1])\n",
        "plt.xlabel('length')\n",
        "plt.ylabel('weight')\n",
        "plt.show()"
      ],
      "execution_count": null,
      "outputs": [
        {
          "output_type": "display_data",
          "data": {
            "image/png": "[encoded data removed]",
            "text/plain": [
              "<Figure size 720x720 with 1 Axes>"
            ]
          },
          "metadata": {
            "needs_background": "light"
          }
        }
      ]
    },
    {
      "cell_type": "markdown",
      "metadata": {
        "id": "RPUjwiCOldzU"
      },
      "source": [
        "### 훈련 세트와 테스트 세트로 모델링"
      ]
    },
    {
      "cell_type": "code",
      "metadata": {
        "colab": {
          "base_uri": "https://localhost:8080/"
        },
        "id": "mnBTo8DMke7T",
        "outputId": "ffd8f018-ae36-4cd4-fd14-2a3778393f0b"
      },
      "source": [
        "from sklearn.neighbors import KNeighborsClassifier\n",
        "kn = KNeighborsClassifier()\n",
        "kn = kn.fit(train_input, train_target)\n",
        "kn.score(test_input, test_target)"
      ],
      "execution_count": null,
      "outputs": [
        {
          "output_type": "execute_result",
          "data": {
            "text/plain": [
              "1.0"
            ]
          },
          "metadata": {},
          "execution_count": 23
        }
      ]
    },
    {
      "cell_type": "code",
      "metadata": {
        "id": "n-_gXtYcl15q"
      },
      "source": [
        "# 정확도가 1이므로 test set의 모든 데이터를 정확하게 맞춤"
      ],
      "execution_count": null,
      "outputs": []
    },
    {
      "cell_type": "code",
      "metadata": {
        "colab": {
          "base_uri": "https://localhost:8080/"
        },
        "id": "l5pSDHmll9PX",
        "outputId": "5d2fadef-78ed-4c67-db08-48045c2588ec"
      },
      "source": [
        "kn.predict(test_input)"
      ],
      "execution_count": null,
      "outputs": [
        {
          "output_type": "execute_result",
          "data": {
            "text/plain": [
              "array([1, 1, 0, 1, 0, 0, 0, 1, 0, 0, 1, 0, 0, 1])"
            ]
          },
          "metadata": {},
          "execution_count": 27
        }
      ]
    },
    {
      "cell_type": "code",
      "metadata": {
        "colab": {
          "base_uri": "https://localhost:8080/"
        },
        "id": "VCskpRSdmCYN",
        "outputId": "1b5f5cf0-6901-49ba-af8f-67fdc4e7b086"
      },
      "source": [
        "test_target"
      ],
      "execution_count": null,
      "outputs": [
        {
          "output_type": "execute_result",
          "data": {
            "text/plain": [
              "array([1, 1, 0, 1, 0, 0, 0, 1, 0, 0, 1, 0, 0, 1])"
            ]
          },
          "metadata": {},
          "execution_count": 28
        }
      ]
    },
    {
      "cell_type": "code",
      "metadata": {
        "colab": {
          "base_uri": "https://localhost:8080/"
        },
        "id": "qmodbzvjmFae",
        "outputId": "2852fb80-e1d2-4eec-c2aa-fe062b56860a"
      },
      "source": [
        "for idx, dif in enumerate(kn.predict(test_input) - test_target) :\n",
        "  if dif == 0 :\n",
        "    print(idx,\": right\")\n",
        "  else :\n",
        "    print(idx,\": wrong\")"
      ],
      "execution_count": null,
      "outputs": [
        {
          "output_type": "stream",
          "name": "stdout",
          "text": [
            "0 : right\n",
            "1 : right\n",
            "2 : right\n",
            "3 : right\n",
            "4 : right\n",
            "5 : right\n",
            "6 : right\n",
            "7 : right\n",
            "8 : right\n",
            "9 : right\n",
            "10 : right\n",
            "11 : right\n",
            "12 : right\n",
            "13 : right\n"
          ]
        }
      ]
    },
    {
      "cell_type": "markdown",
      "metadata": {
        "id": "mam7F0EEnDQb"
      },
      "source": [
        "# 2-2. 데이터 전처리\n",
        "데이터 전처리, 표준점수, 브로드캐스딩(np)"
      ]
    },
    {
      "cell_type": "markdown",
      "metadata": {
        "id": "UCPeNTH7nbpw"
      },
      "source": [
        "### Numpy로 데이터 준비\n",
        "- column_stack(), np.ones(), np.zeors(), np.concatenate()"
      ]
    },
    {
      "cell_type": "code",
      "metadata": {
        "id": "V2FcbD2jndSr"
      },
      "source": [
        "fish_length = [25.4, 26.3, 26.5, 29.0, 29.0, 29.7, 29.7, 30.0, 30.0, 30.7, 31.0, 31.0, \n",
        "                31.5, 32.0, 32.0, 32.0, 33.0, 33.0, 33.5, 33.5, 34.0, 34.0, 34.5, 35.0, \n",
        "                35.0, 35.0, 35.0, 36.0, 36.0, 37.0, 38.5, 38.5, 39.5, 41.0, 41.0, 9.8, \n",
        "                10.5, 10.6, 11.0, 11.2, 11.3, 11.8, 11.8, 12.0, 12.2, 12.4, 13.0, 14.3, 15.0]\n",
        "fish_weight = [242.0, 290.0, 340.0, 363.0, 430.0, 450.0, 500.0, 390.0, 450.0, 500.0, 475.0, 500.0, \n",
        "                500.0, 340.0, 600.0, 600.0, 700.0, 700.0, 610.0, 650.0, 575.0, 685.0, 620.0, 680.0, \n",
        "                700.0, 725.0, 720.0, 714.0, 850.0, 1000.0, 920.0, 955.0, 925.0, 975.0, 950.0, 6.7, \n",
        "                7.5, 7.0, 9.7, 9.8, 8.7, 10.0, 9.9, 9.8, 12.2, 13.4, 12.2, 19.7, 19.9]"
      ],
      "execution_count": null,
      "outputs": []
    },
    {
      "cell_type": "code",
      "metadata": {
        "colab": {
          "base_uri": "https://localhost:8080/"
        },
        "id": "yo0Iw3-EnGFV",
        "outputId": "fa75a14f-a6a9-4b10-eaef-dad6b5cbc438"
      },
      "source": [
        "import numpy as np\n",
        "np.column_stack(([1,2,3],[4,5,6]))\n",
        "# np.column_stack((list1,list2,...))은 전달받은 list들을 같은 index끼리 추출하여 묶어 새로운 array를 만드는 함수로 앞서 for+zip()과 같은 역할\n",
        "# A = [a1, a2, ...], B = [b1, b2, ...] => result = [[a1,b1],[a2,b2],...]"
      ],
      "execution_count": null,
      "outputs": [
        {
          "output_type": "execute_result",
          "data": {
            "text/plain": [
              "array([[1, 4],\n",
              "       [2, 5],\n",
              "       [3, 6]])"
            ]
          },
          "metadata": {},
          "execution_count": 33
        }
      ]
    },
    {
      "cell_type": "code",
      "metadata": {
        "colab": {
          "base_uri": "https://localhost:8080/"
        },
        "id": "m8vKZ0--nrnR",
        "outputId": "15ffa821-7df7-4fa3-f922-9342c6da7638"
      },
      "source": [
        "fish_data = np.column_stack((fish_length,fish_weight))\n",
        "print(fish_data[:5])"
      ],
      "execution_count": null,
      "outputs": [
        {
          "output_type": "stream",
          "name": "stdout",
          "text": [
            "[[ 25.4 242. ]\n",
            " [ 26.3 290. ]\n",
            " [ 26.5 340. ]\n",
            " [ 29.  363. ]\n",
            " [ 29.  430. ]]\n"
          ]
        }
      ]
    },
    {
      "cell_type": "code",
      "metadata": {
        "colab": {
          "base_uri": "https://localhost:8080/"
        },
        "id": "IUcfkSUJo55W",
        "outputId": "791fd026-88e8-4595-b617-f2888c446275"
      },
      "source": [
        "# np.ones(N), np.zeros(N)는 N개 만큼의 1, 0으로 이루어진 배열을 생성\n",
        "# np.concatenate( (A, B) )는 배열 A와 B를 결합시키는 함수로 list상 + 같은 역할\n",
        "fish_target = np.concatenate((np.ones(35), np.zeros(14)))\n",
        "print(fish_target)"
      ],
      "execution_count": null,
      "outputs": [
        {
          "output_type": "stream",
          "name": "stdout",
          "text": [
            "[1. 1. 1. 1. 1. 1. 1. 1. 1. 1. 1. 1. 1. 1. 1. 1. 1. 1. 1. 1. 1. 1. 1. 1.\n",
            " 1. 1. 1. 1. 1. 1. 1. 1. 1. 1. 1. 0. 0. 0. 0. 0. 0. 0. 0. 0. 0. 0. 0. 0.\n",
            " 0.]\n"
          ]
        }
      ]
    },
    {
      "cell_type": "markdown",
      "metadata": {
        "id": "hBlg0mLUpoSP"
      },
      "source": [
        "### 사이킷런으로 훈련 세트와 테스트 세트 자동으로 나누기\n",
        "- train_test_split()"
      ]
    },
    {
      "cell_type": "code",
      "metadata": {
        "id": "NvhsAZNGpgUc"
      },
      "source": [
        "from sklearn.model_selection import train_test_split\n",
        "train_input, test_input, train_target, test_target = train_test_split(fish_data, fish_target, random_state =42)\n",
        "# train_test_split( INPUT, TARGET, random_state=) : 입력 데이터를 train_input과 test_input으로 나누고 타겟 데이터를 train_target과 test_target으로 랜덤하게 나눔\n",
        "# 이때 25%를 테스트 세트로 떼어냄"
      ],
      "execution_count": null,
      "outputs": []
    },
    {
      "cell_type": "code",
      "metadata": {
        "colab": {
          "base_uri": "https://localhost:8080/"
        },
        "id": "YV6_DYGiq0Q9",
        "outputId": "b8e71d86-b7d8-4b67-8bf4-99ab5511fe46"
      },
      "source": [
        "print(train_input.shape , test_input.shape)  # 2개의 feature로 구성"
      ],
      "execution_count": null,
      "outputs": [
        {
          "output_type": "stream",
          "name": "stdout",
          "text": [
            "(36, 2) (13, 2)\n"
          ]
        }
      ]
    },
    {
      "cell_type": "markdown",
      "metadata": {
        "id": "ZldMGZ9RrBK3"
      },
      "source": [
        "훈련 세트와 테스트 세트를 각각 36, 13개로 나누었다는 의미"
      ]
    },
    {
      "cell_type": "code",
      "metadata": {
        "colab": {
          "base_uri": "https://localhost:8080/"
        },
        "id": "SfFHbQvOq6Pi",
        "outputId": "72d27296-35b1-4042-9b28-a9c5b5d78ac5"
      },
      "source": [
        "print(test_target)"
      ],
      "execution_count": null,
      "outputs": [
        {
          "output_type": "stream",
          "name": "stdout",
          "text": [
            "[1. 0. 0. 0. 1. 1. 1. 1. 1. 1. 1. 1. 1.]\n"
          ]
        }
      ]
    },
    {
      "cell_type": "markdown",
      "metadata": {
        "id": "BY02msF2rLMj"
      },
      "source": [
        "원래 bream:smelt ratio가 2.5:1인데 test에서는 그 ratio가 3.3:1이므로 약하게 나마 **sampling bais**가 나타났다고 볼 수 있음   \n",
        "=> stratify 매개변수로 이를 조정"
      ]
    },
    {
      "cell_type": "code",
      "metadata": {
        "colab": {
          "base_uri": "https://localhost:8080/"
        },
        "id": "9c-4_FAsrHuf",
        "outputId": "3fe256c8-d1ba-4fa6-bc5b-2fefc005bb5e"
      },
      "source": [
        "train_input, test_input, train_target, test_target = train_test_split(fish_data, fish_target, stratify=fish_target, random_state =42)\n",
        "# stratify = 원하는 비율을 가진 array (전체 set)\n",
        "print(test_target)"
      ],
      "execution_count": null,
      "outputs": [
        {
          "output_type": "stream",
          "name": "stdout",
          "text": [
            "[0. 0. 1. 0. 1. 0. 1. 1. 1. 1. 1. 1. 1.]\n"
          ]
        }
      ]
    },
    {
      "cell_type": "markdown",
      "metadata": {
        "id": "RoB8pQn8ryTA"
      },
      "source": [
        "이제 test의 b:s ratio는 2.25:1로 전체 ratio와 유사해짐"
      ]
    },
    {
      "cell_type": "markdown",
      "metadata": {
        "id": "G7K61NeqsbBH"
      },
      "source": [
        "### k-nearest neighbors 분류모델의 분석 시각화 (추가)"
      ]
    },
    {
      "cell_type": "code",
      "metadata": {
        "colab": {
          "base_uri": "https://localhost:8080/"
        },
        "id": "J-A0YKP0so5v",
        "outputId": "47937b91-8b93-4e17-b07b-cde51a1b21e2"
      },
      "source": [
        "from sklearn.neighbors import KNeighborsClassifier\n",
        "kn = KNeighborsClassifier()\n",
        "kn = kn.fit(train_input, train_target)\n",
        "kn.predict([[25,150]])"
      ],
      "execution_count": null,
      "outputs": [
        {
          "output_type": "execute_result",
          "data": {
            "text/plain": [
              "array([0.])"
            ]
          },
          "metadata": {},
          "execution_count": 42
        }
      ]
    },
    {
      "cell_type": "markdown",
      "metadata": {
        "id": "vcbxWIAqs3z9"
      },
      "source": [
        "[25, 150]의 예측값은 0, 그러나 정답은 1"
      ]
    },
    {
      "cell_type": "code",
      "metadata": {
        "colab": {
          "base_uri": "https://localhost:8080/",
          "height": 279
        },
        "id": "SPVesFLns3MO",
        "outputId": "a818bb9f-3289-407e-e648-86346b5017a8"
      },
      "source": [
        "import matplotlib.pyplot as plt\n",
        "plt.scatter(train_input[:,0], train_input[:,1])\n",
        "plt.scatter(25,150,marker='D')\n",
        "plt.xlabel('length')\n",
        "plt.ylabel('weight')\n",
        "plt.show()"
      ],
      "execution_count": null,
      "outputs": [
        {
          "output_type": "display_data",
          "data": {
            "image/png": "[encoded data removed]",
            "text/plain": [
              "<Figure size 432x288 with 1 Axes>"
            ]
          },
          "metadata": {
            "needs_background": "light"
          }
        }
      ]
    },
    {
      "cell_type": "markdown",
      "metadata": {
        "id": "jrhtCWCutqVJ"
      },
      "source": [
        "kneighbor() :  KNeighborClassifier 클래스에서 주어진 샘플에서 가장 가까운 이웃을 찾아주는 함수   \n",
        "- 이웃까지의 거리와 해당 이웃들의 index를 return\n",
        "- return_distance = False 로 하면 이웃 샘플의 index만 반환하고 거리는 반환하지 않음"
      ]
    },
    {
      "cell_type": "code",
      "metadata": {
        "id": "q_H1e1mGt9hf"
      },
      "source": [
        "distances, indexes = kn.kneighbors([[25,150]])"
      ],
      "execution_count": null,
      "outputs": []
    },
    {
      "cell_type": "code",
      "metadata": {
        "colab": {
          "base_uri": "https://localhost:8080/",
          "height": 279
        },
        "id": "HzNgVCxwuOEY",
        "outputId": "219ea5d2-393c-407a-c0d2-65921fd0ca39"
      },
      "source": [
        "plt.scatter(train_input[:,0], train_input[:,1])\n",
        "plt.scatter(25,150,marker='D', s= 100)\n",
        "plt.scatter(train_input[indexes, 0], train_input[indexes, 1] , marker='^',s=100)\n",
        "plt.xlabel('length')\n",
        "plt.ylabel('weight')\n",
        "plt.show()"
      ],
      "execution_count": null,
      "outputs": [
        {
          "output_type": "display_data",
          "data": {
            "image/png": "[encoded data removed]",
            "text/plain": [
              "<Figure size 432x288 with 1 Axes>"
            ]
          },
          "metadata": {
            "needs_background": "light"
          }
        }
      ]
    },
    {
      "cell_type": "code",
      "metadata": {
        "colab": {
          "base_uri": "https://localhost:8080/"
        },
        "id": "1voft92UvXz_",
        "outputId": "44c9564a-900a-4fa5-fad5-61ee4a7410fb"
      },
      "source": [
        "print(distances)"
      ],
      "execution_count": null,
      "outputs": [
        {
          "output_type": "stream",
          "name": "stdout",
          "text": [
            "[[ 92.00086956 130.48375378 130.73859415 138.32150953 138.39320793]]\n"
          ]
        }
      ]
    },
    {
      "cell_type": "markdown",
      "metadata": {
        "id": "luHmYoyDvfcv"
      },
      "source": [
        "분명 그래프상으로는 class 1(도미)과 더 가까운데 왜 model prediction상으로는 class 0(빙어)에 이웃이 4개나 있는 것일까?   \n",
        "=> scale 차이를 반영하지 않았기 때문!"
      ]
    },
    {
      "cell_type": "markdown",
      "metadata": {
        "id": "qTl_Za7nsLz8"
      },
      "source": [
        "### 데이터 전처리 : 표준점수화, 브로드캐스딩"
      ]
    },
    {
      "cell_type": "markdown",
      "metadata": {
        "id": "WXPYctpYv9ro"
      },
      "source": [
        "length는 10-40의 값을 가지는 데이터인데, weight는 0-1000의 값을 가지는 데이터 이므로 단순히 거리를 재면 length는 매우 낮은 결정력(가중치)을 갖는 결과가 발생   \n",
        "=> length가 무의미해지는 결과\n"
      ]
    },
    {
      "cell_type": "code",
      "metadata": {
        "colab": {
          "base_uri": "https://localhost:8080/",
          "height": 279
        },
        "id": "Ms0SR_P2rwmD",
        "outputId": "09b69232-0a82-4939-8b25-ae94c1918e94"
      },
      "source": [
        "plt.scatter(train_input[:,0], train_input[:,1])\n",
        "plt.scatter(25,150,marker='D', s= 100)\n",
        "plt.scatter(train_input[indexes, 0], train_input[indexes, 1] , marker='^',s=100)\n",
        "plt.xlim((0,1000))   # x축의 scale을 (0,1000)으로 변경\n",
        "plt.xlabel('length')\n",
        "plt.ylabel('weight')\n",
        "plt.show()"
      ],
      "execution_count": null,
      "outputs": [
        {
          "output_type": "display_data",
          "data": {
            "image/png": "[encoded data removed]",
            "text/plain": [
              "<Figure size 432x288 with 1 Axes>"
            ]
          },
          "metadata": {
            "needs_background": "light"
          }
        }
      ]
    },
    {
      "cell_type": "markdown",
      "metadata": {
        "id": "UjqANE5_wjnD"
      },
      "source": [
        "산점도가 사실상 일직선, 두 특성feature의 scale을 맞추는 과정이 필요 :    \n",
        "**데이터 전처리(data preprocessing)**\n",
        "- 표준점수(standard score)"
      ]
    },
    {
      "cell_type": "code",
      "metadata": {
        "id": "TSakwyfywewo"
      },
      "source": [
        "mean = np.mean(train_input, axis =0)\n",
        "std = np.std(train_input, axis=0)"
      ],
      "execution_count": null,
      "outputs": []
    },
    {
      "cell_type": "markdown",
      "metadata": {
        "id": "eGvfyZSaxFIQ"
      },
      "source": [
        "axis = 0 : 행을 따라 계산 (행 전체를 하나의 묶음으로 봄)   \n",
        ".......  = 1 : 열을 따라 계산 (열 전체를 하나의 묶음으로 봄)\n",
        "\n"
      ]
    },
    {
      "cell_type": "code",
      "metadata": {
        "id": "drPJxq6sxhb9"
      },
      "source": [
        "train_scaled = (train_input - mean)/std"
      ],
      "execution_count": null,
      "outputs": []
    },
    {
      "cell_type": "markdown",
      "metadata": {
        "id": "qyPVDiYzxkmv"
      },
      "source": [
        "** 브로드캐스딩** : numpy 배열을 계산하는 기능\n",
        "- array 안의 개별 데이터를 한 번에 계산할 수 있음\n",
        "- train_input 안의 개별 데이터에 대해 각각 앞서 구한 mean 값을 빼주고 std로 나눠주는 작업을 굳이 array를 해체하지 않아도 수행 가능!!\n",
        "\n"
      ]
    },
    {
      "cell_type": "code",
      "metadata": {
        "colab": {
          "base_uri": "https://localhost:8080/",
          "height": 279
        },
        "id": "yAhwRcz2yG4E",
        "outputId": "3e147426-d9a2-4c68-f0fe-1e4ca55caf16"
      },
      "source": [
        "new = ([25,150] - mean) / std\n",
        "# 새로운 데이터 또한 전처리해야 함\n",
        "plt.scatter(train_scaled[:,0], train_scaled[:,1])\n",
        "plt.scatter(new[0],new[1],marker='D', s= 100)\n",
        "plt.xlabel('length')\n",
        "plt.ylabel('weight')\n",
        "plt.show()"
      ],
      "execution_count": null,
      "outputs": [
        {
          "output_type": "display_data",
          "data": {
            "image/png": "[encoded data removed]",
            "text/plain": [
              "<Figure size 432x288 with 1 Axes>"
            ]
          },
          "metadata": {
            "needs_background": "light"
          }
        }
      ]
    },
    {
      "cell_type": "code",
      "metadata": {
        "colab": {
          "base_uri": "https://localhost:8080/"
        },
        "id": "rB7c6Ytdyb2F",
        "outputId": "f80663b3-f278-4881-9b5b-15fb49ba6883"
      },
      "source": [
        "kn.fit(train_scaled, train_target)"
      ],
      "execution_count": null,
      "outputs": [
        {
          "output_type": "execute_result",
          "data": {
            "text/plain": [
              "KNeighborsClassifier(algorithm='auto', leaf_size=30, metric='minkowski',\n",
              "                     metric_params=None, n_jobs=None, n_neighbors=5, p=2,\n",
              "                     weights='uniform')"
            ]
          },
          "metadata": {},
          "execution_count": 68
        }
      ]
    },
    {
      "cell_type": "code",
      "metadata": {
        "id": "m-fkTVz1yp0-"
      },
      "source": [
        "test_scaled = ( test_input - mean)/std\n",
        "# train의 평균과 분산을 기준으로 test의 표준점수화를 해야 같은 scale로 산점도를 그릴 수 있음"
      ],
      "execution_count": null,
      "outputs": []
    },
    {
      "cell_type": "code",
      "metadata": {
        "colab": {
          "base_uri": "https://localhost:8080/"
        },
        "id": "7gasbt3Wy90n",
        "outputId": "95b4a10e-6179-47b5-8ee8-71f48a4a0705"
      },
      "source": [
        "kn.score(test_scaled, test_target)"
      ],
      "execution_count": null,
      "outputs": [
        {
          "output_type": "execute_result",
          "data": {
            "text/plain": [
              "1.0"
            ]
          },
          "metadata": {},
          "execution_count": 70
        }
      ]
    },
    {
      "cell_type": "code",
      "metadata": {
        "colab": {
          "base_uri": "https://localhost:8080/"
        },
        "id": "a8iKyScNzBky",
        "outputId": "b72b0930-76ee-4ed1-b856-a404c029d1cb"
      },
      "source": [
        "print(kn.predict([new]))"
      ],
      "execution_count": null,
      "outputs": [
        {
          "output_type": "stream",
          "name": "stdout",
          "text": [
            "[1.]\n"
          ]
        }
      ]
    },
    {
      "cell_type": "markdown",
      "metadata": {
        "id": "3_hPAo-2zHNS"
      },
      "source": [
        "데이터 전처리를 거친 결과 새로운 데이터를 빙어(0)가 아닌 도미(1)로 잘 예측하고 있음!"
      ]
    },
    {
      "cell_type": "code",
      "metadata": {
        "colab": {
          "base_uri": "https://localhost:8080/",
          "height": 279
        },
        "id": "xpSGrPSYzGVV",
        "outputId": "8cf4f2ea-e3a8-42b4-94dd-1b09115f9895"
      },
      "source": [
        "distances, indexes = kn.kneighbors([new])\n",
        "plt.scatter(train_scaled[:,0], train_scaled[:,1])\n",
        "plt.scatter(new[0], new[1], marker='D', s= 100)\n",
        "plt.scatter(train_scaled[indexes, 0], train_scaled[indexes, 1] , marker='^',s=100)\n",
        "plt.xlabel('length')\n",
        "plt.ylabel('weight')\n",
        "plt.show()"
      ],
      "execution_count": null,
      "outputs": [
        {
          "output_type": "display_data",
          "data": {
            "image/png": "[encoded data removed]",
            "text/plain": [
              "<Figure size 432x288 with 1 Axes>"
            ]
          },
          "metadata": {
            "needs_background": "light"
          }
        }
      ]
    },
    {
      "cell_type": "code",
      "metadata": {
        "colab": {
          "base_uri": "https://localhost:8080/",
          "height": 279
        },
        "id": "2vRc3TxNzpLC",
        "outputId": "2d693ace-1f50-4685-aaed-d93a2a62528e"
      },
      "source": [
        "# [-0.5,-1]인 새로운 데이터는 어떤 결과?\n",
        "distances2, indexes2 = kn.kneighbors([[-0.5, -1]])\n",
        "plt.scatter(train_scaled[:,0], train_scaled[:,1])\n",
        "plt.scatter(-0.5, -1, marker='D', s= 100)\n",
        "plt.scatter(train_scaled[indexes2, 0], train_scaled[indexes2, 1] , marker='^',s=100)\n",
        "plt.xlabel('length')\n",
        "plt.ylabel('weight')\n",
        "plt.show()"
      ],
      "execution_count": null,
      "outputs": [
        {
          "output_type": "display_data",
          "data": {
            "image/png": "[encoded data removed]",
            "text/plain": [
              "<Figure size 432x288 with 1 Axes>"
            ]
          },
          "metadata": {
            "needs_background": "light"
          }
        }
      ]
    },
    {
      "cell_type": "code",
      "metadata": {
        "colab": {
          "base_uri": "https://localhost:8080/"
        },
        "id": "ekJX9jf6z-mp",
        "outputId": "96382c1e-983d-4769-cef2-f43dc591f31e"
      },
      "source": [
        "print(kn.predict([[-0.5, -1]]))"
      ],
      "execution_count": null,
      "outputs": [
        {
          "output_type": "stream",
          "name": "stdout",
          "text": [
            "[0.]\n"
          ]
        }
      ]
    }
  ]
}
